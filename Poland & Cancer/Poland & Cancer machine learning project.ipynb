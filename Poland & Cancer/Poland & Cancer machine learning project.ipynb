{
 "cells": [
  {
   "cell_type": "code",
   "execution_count": 1,
   "id": "90ea5f15",
   "metadata": {},
   "outputs": [
    {
     "name": "stderr",
     "output_type": "stream",
     "text": [
      "C:\\anaconda\\lib\\site-packages\\scipy\\__init__.py:146: UserWarning: A NumPy version >=1.16.5 and <1.23.0 is required for this version of SciPy (detected version 1.26.2\n",
      "  warnings.warn(f\"A NumPy version >={np_minversion} and <{np_maxversion}\"\n"
     ]
    },
    {
     "name": "stdout",
     "output_type": "stream",
     "text": [
      "WARNING:tensorflow:From C:\\Users\\Window's-10\\AppData\\Roaming\\Python\\Python39\\site-packages\\keras\\src\\losses.py:2976: The name tf.losses.sparse_softmax_cross_entropy is deprecated. Please use tf.compat.v1.losses.sparse_softmax_cross_entropy instead.\n",
      "\n"
     ]
    }
   ],
   "source": [
    "import json\n",
    "import sklearn\n",
    "import numpy\n",
    "import pandas as pd\n",
    "from sklearn.impute import SimpleImputer ,KNNImputer\n",
    "from sklearn.model_selection import train_test_split,cross_val_score,GridSearchCV\n",
    "from imblearn.over_sampling import RandomOverSampler\n",
    "from sklearn.pipeline import make_pipeline\n",
    "from sklearn.metrics import ConfusionMatrixDisplay\n",
    "from sklearn.ensemble import RandomForestClassifier\n",
    "from scipy.io import arff \n",
    "import matplotlib.pyplot as plt\n",
    "import seaborn as sns\n",
    "from sklearn.feature_selection import SelectKBest\n",
    "from sklearn.feature_selection import f_classif\n",
    "from sklearn.svm import SVC\n",
    "from sklearn.linear_model import LinearRegression\n",
    "from sklearn.metrics import classification_report\n",
    "import tensorflow as tf\n",
    "import numpy as np\n",
    "from sklearn.decomposition import PCA"
   ]
  },
  {
   "cell_type": "code",
   "execution_count": 3,
   "id": "eb13fc93",
   "metadata": {},
   "outputs": [],
   "source": [
    "def wrangle(path):\n",
    "    data, meta = arff.loadarff(path)\n",
    "    df = pd.DataFrame(data)\n",
    "    bool_mapping = {df['class'].unique()[0]: False, df['class'].unique()[1]: True}\n",
    "    df.replace(bool_mapping, inplace=True)\n",
    "    return df"
   ]
  },
  {
   "cell_type": "code",
   "execution_count": 4,
   "id": "7535c120",
   "metadata": {},
   "outputs": [
    {
     "data": {
      "text/html": [
       "<div>\n",
       "<style scoped>\n",
       "    .dataframe tbody tr th:only-of-type {\n",
       "        vertical-align: middle;\n",
       "    }\n",
       "\n",
       "    .dataframe tbody tr th {\n",
       "        vertical-align: top;\n",
       "    }\n",
       "\n",
       "    .dataframe thead th {\n",
       "        text-align: right;\n",
       "    }\n",
       "</style>\n",
       "<table border=\"1\" class=\"dataframe\">\n",
       "  <thead>\n",
       "    <tr style=\"text-align: right;\">\n",
       "      <th></th>\n",
       "      <th>Attr1</th>\n",
       "      <th>Attr2</th>\n",
       "      <th>Attr3</th>\n",
       "      <th>Attr4</th>\n",
       "      <th>Attr5</th>\n",
       "      <th>Attr6</th>\n",
       "      <th>Attr7</th>\n",
       "      <th>Attr8</th>\n",
       "      <th>Attr9</th>\n",
       "      <th>Attr10</th>\n",
       "      <th>...</th>\n",
       "      <th>Attr56</th>\n",
       "      <th>Attr57</th>\n",
       "      <th>Attr58</th>\n",
       "      <th>Attr59</th>\n",
       "      <th>Attr60</th>\n",
       "      <th>Attr61</th>\n",
       "      <th>Attr62</th>\n",
       "      <th>Attr63</th>\n",
       "      <th>Attr64</th>\n",
       "      <th>class</th>\n",
       "    </tr>\n",
       "  </thead>\n",
       "  <tbody>\n",
       "    <tr>\n",
       "      <th>0</th>\n",
       "      <td>0.159290</td>\n",
       "      <td>0.46240</td>\n",
       "      <td>0.077730</td>\n",
       "      <td>1.16830</td>\n",
       "      <td>-44.8530</td>\n",
       "      <td>0.467020</td>\n",
       "      <td>0.189480</td>\n",
       "      <td>0.82895</td>\n",
       "      <td>1.12230</td>\n",
       "      <td>0.38330</td>\n",
       "      <td>...</td>\n",
       "      <td>0.108990</td>\n",
       "      <td>0.415570</td>\n",
       "      <td>0.89101</td>\n",
       "      <td>0.001422</td>\n",
       "      <td>7.7928</td>\n",
       "      <td>4.9914</td>\n",
       "      <td>119.810</td>\n",
       "      <td>3.0465</td>\n",
       "      <td>3.05600</td>\n",
       "      <td>False</td>\n",
       "    </tr>\n",
       "    <tr>\n",
       "      <th>1</th>\n",
       "      <td>-0.127430</td>\n",
       "      <td>0.46243</td>\n",
       "      <td>0.269170</td>\n",
       "      <td>1.75170</td>\n",
       "      <td>7.5970</td>\n",
       "      <td>0.000925</td>\n",
       "      <td>-0.127430</td>\n",
       "      <td>1.16250</td>\n",
       "      <td>1.29440</td>\n",
       "      <td>0.53757</td>\n",
       "      <td>...</td>\n",
       "      <td>-0.089372</td>\n",
       "      <td>-0.237040</td>\n",
       "      <td>1.06250</td>\n",
       "      <td>0.150410</td>\n",
       "      <td>5.4327</td>\n",
       "      <td>3.4629</td>\n",
       "      <td>100.970</td>\n",
       "      <td>3.6150</td>\n",
       "      <td>3.47250</td>\n",
       "      <td>False</td>\n",
       "    </tr>\n",
       "    <tr>\n",
       "      <th>2</th>\n",
       "      <td>0.070488</td>\n",
       "      <td>0.23570</td>\n",
       "      <td>0.527810</td>\n",
       "      <td>3.23930</td>\n",
       "      <td>125.6800</td>\n",
       "      <td>0.163670</td>\n",
       "      <td>0.086895</td>\n",
       "      <td>2.87180</td>\n",
       "      <td>1.05740</td>\n",
       "      <td>0.67689</td>\n",
       "      <td>...</td>\n",
       "      <td>0.054286</td>\n",
       "      <td>0.104130</td>\n",
       "      <td>0.94571</td>\n",
       "      <td>0.000000</td>\n",
       "      <td>7.1070</td>\n",
       "      <td>3.3808</td>\n",
       "      <td>76.076</td>\n",
       "      <td>4.7978</td>\n",
       "      <td>4.78180</td>\n",
       "      <td>False</td>\n",
       "    </tr>\n",
       "    <tr>\n",
       "      <th>3</th>\n",
       "      <td>0.136760</td>\n",
       "      <td>0.40538</td>\n",
       "      <td>0.315430</td>\n",
       "      <td>1.87050</td>\n",
       "      <td>19.1150</td>\n",
       "      <td>0.504970</td>\n",
       "      <td>0.136760</td>\n",
       "      <td>1.45390</td>\n",
       "      <td>1.11440</td>\n",
       "      <td>0.58938</td>\n",
       "      <td>...</td>\n",
       "      <td>0.102630</td>\n",
       "      <td>0.232030</td>\n",
       "      <td>0.89737</td>\n",
       "      <td>0.073024</td>\n",
       "      <td>6.1384</td>\n",
       "      <td>4.2241</td>\n",
       "      <td>88.299</td>\n",
       "      <td>4.1337</td>\n",
       "      <td>4.64840</td>\n",
       "      <td>False</td>\n",
       "    </tr>\n",
       "    <tr>\n",
       "      <th>4</th>\n",
       "      <td>-0.110080</td>\n",
       "      <td>0.69793</td>\n",
       "      <td>0.188780</td>\n",
       "      <td>1.27130</td>\n",
       "      <td>-15.3440</td>\n",
       "      <td>0.000000</td>\n",
       "      <td>-0.110080</td>\n",
       "      <td>0.43282</td>\n",
       "      <td>1.73500</td>\n",
       "      <td>0.30207</td>\n",
       "      <td>...</td>\n",
       "      <td>0.439880</td>\n",
       "      <td>-0.364400</td>\n",
       "      <td>0.57153</td>\n",
       "      <td>0.000000</td>\n",
       "      <td>18.8010</td>\n",
       "      <td>2.7925</td>\n",
       "      <td>146.390</td>\n",
       "      <td>2.4934</td>\n",
       "      <td>15.03600</td>\n",
       "      <td>False</td>\n",
       "    </tr>\n",
       "    <tr>\n",
       "      <th>...</th>\n",
       "      <td>...</td>\n",
       "      <td>...</td>\n",
       "      <td>...</td>\n",
       "      <td>...</td>\n",
       "      <td>...</td>\n",
       "      <td>...</td>\n",
       "      <td>...</td>\n",
       "      <td>...</td>\n",
       "      <td>...</td>\n",
       "      <td>...</td>\n",
       "      <td>...</td>\n",
       "      <td>...</td>\n",
       "      <td>...</td>\n",
       "      <td>...</td>\n",
       "      <td>...</td>\n",
       "      <td>...</td>\n",
       "      <td>...</td>\n",
       "      <td>...</td>\n",
       "      <td>...</td>\n",
       "      <td>...</td>\n",
       "      <td>...</td>\n",
       "    </tr>\n",
       "    <tr>\n",
       "      <th>9787</th>\n",
       "      <td>0.004676</td>\n",
       "      <td>0.54949</td>\n",
       "      <td>0.192810</td>\n",
       "      <td>1.38990</td>\n",
       "      <td>-39.0640</td>\n",
       "      <td>0.004676</td>\n",
       "      <td>0.013002</td>\n",
       "      <td>0.78627</td>\n",
       "      <td>0.97093</td>\n",
       "      <td>0.43205</td>\n",
       "      <td>...</td>\n",
       "      <td>-0.029937</td>\n",
       "      <td>0.010823</td>\n",
       "      <td>1.02990</td>\n",
       "      <td>0.127190</td>\n",
       "      <td>3.8159</td>\n",
       "      <td>3.3892</td>\n",
       "      <td>146.860</td>\n",
       "      <td>2.4854</td>\n",
       "      <td>3.93150</td>\n",
       "      <td>True</td>\n",
       "    </tr>\n",
       "    <tr>\n",
       "      <th>9788</th>\n",
       "      <td>-0.027610</td>\n",
       "      <td>0.60748</td>\n",
       "      <td>-0.029762</td>\n",
       "      <td>0.90591</td>\n",
       "      <td>-20.9230</td>\n",
       "      <td>-0.027610</td>\n",
       "      <td>-0.027610</td>\n",
       "      <td>0.55161</td>\n",
       "      <td>1.00730</td>\n",
       "      <td>0.33509</td>\n",
       "      <td>...</td>\n",
       "      <td>0.007198</td>\n",
       "      <td>-0.082395</td>\n",
       "      <td>0.99280</td>\n",
       "      <td>0.868910</td>\n",
       "      <td>23.0280</td>\n",
       "      <td>27.1360</td>\n",
       "      <td>37.047</td>\n",
       "      <td>9.8523</td>\n",
       "      <td>4.36810</td>\n",
       "      <td>True</td>\n",
       "    </tr>\n",
       "    <tr>\n",
       "      <th>9789</th>\n",
       "      <td>-0.238290</td>\n",
       "      <td>0.62708</td>\n",
       "      <td>0.090374</td>\n",
       "      <td>1.61250</td>\n",
       "      <td>-1.0692</td>\n",
       "      <td>-0.238290</td>\n",
       "      <td>-0.240360</td>\n",
       "      <td>0.28322</td>\n",
       "      <td>0.80307</td>\n",
       "      <td>0.17760</td>\n",
       "      <td>...</td>\n",
       "      <td>-0.245220</td>\n",
       "      <td>-1.341700</td>\n",
       "      <td>1.24520</td>\n",
       "      <td>2.700100</td>\n",
       "      <td>6.5694</td>\n",
       "      <td>4.1781</td>\n",
       "      <td>88.883</td>\n",
       "      <td>4.1065</td>\n",
       "      <td>0.79501</td>\n",
       "      <td>True</td>\n",
       "    </tr>\n",
       "    <tr>\n",
       "      <th>9790</th>\n",
       "      <td>0.097188</td>\n",
       "      <td>0.75300</td>\n",
       "      <td>-0.327680</td>\n",
       "      <td>0.43850</td>\n",
       "      <td>-214.2400</td>\n",
       "      <td>-0.331300</td>\n",
       "      <td>0.104280</td>\n",
       "      <td>0.32803</td>\n",
       "      <td>0.98145</td>\n",
       "      <td>0.24700</td>\n",
       "      <td>...</td>\n",
       "      <td>0.288240</td>\n",
       "      <td>0.393470</td>\n",
       "      <td>0.68127</td>\n",
       "      <td>0.508850</td>\n",
       "      <td>4.3246</td>\n",
       "      <td>35.5030</td>\n",
       "      <td>217.030</td>\n",
       "      <td>1.6818</td>\n",
       "      <td>1.31910</td>\n",
       "      <td>True</td>\n",
       "    </tr>\n",
       "    <tr>\n",
       "      <th>9791</th>\n",
       "      <td>0.021416</td>\n",
       "      <td>0.48678</td>\n",
       "      <td>0.148940</td>\n",
       "      <td>1.30670</td>\n",
       "      <td>-24.2820</td>\n",
       "      <td>0.021416</td>\n",
       "      <td>0.027253</td>\n",
       "      <td>1.05320</td>\n",
       "      <td>1.00140</td>\n",
       "      <td>0.51267</td>\n",
       "      <td>...</td>\n",
       "      <td>0.001393</td>\n",
       "      <td>0.041773</td>\n",
       "      <td>0.99861</td>\n",
       "      <td>0.002146</td>\n",
       "      <td>6.7582</td>\n",
       "      <td>4.9171</td>\n",
       "      <td>98.421</td>\n",
       "      <td>3.7085</td>\n",
       "      <td>4.92950</td>\n",
       "      <td>True</td>\n",
       "    </tr>\n",
       "  </tbody>\n",
       "</table>\n",
       "<p>9792 rows × 65 columns</p>\n",
       "</div>"
      ],
      "text/plain": [
       "         Attr1    Attr2     Attr3    Attr4     Attr5     Attr6     Attr7  \\\n",
       "0     0.159290  0.46240  0.077730  1.16830  -44.8530  0.467020  0.189480   \n",
       "1    -0.127430  0.46243  0.269170  1.75170    7.5970  0.000925 -0.127430   \n",
       "2     0.070488  0.23570  0.527810  3.23930  125.6800  0.163670  0.086895   \n",
       "3     0.136760  0.40538  0.315430  1.87050   19.1150  0.504970  0.136760   \n",
       "4    -0.110080  0.69793  0.188780  1.27130  -15.3440  0.000000 -0.110080   \n",
       "...        ...      ...       ...      ...       ...       ...       ...   \n",
       "9787  0.004676  0.54949  0.192810  1.38990  -39.0640  0.004676  0.013002   \n",
       "9788 -0.027610  0.60748 -0.029762  0.90591  -20.9230 -0.027610 -0.027610   \n",
       "9789 -0.238290  0.62708  0.090374  1.61250   -1.0692 -0.238290 -0.240360   \n",
       "9790  0.097188  0.75300 -0.327680  0.43850 -214.2400 -0.331300  0.104280   \n",
       "9791  0.021416  0.48678  0.148940  1.30670  -24.2820  0.021416  0.027253   \n",
       "\n",
       "        Attr8    Attr9   Attr10  ...    Attr56    Attr57   Attr58    Attr59  \\\n",
       "0     0.82895  1.12230  0.38330  ...  0.108990  0.415570  0.89101  0.001422   \n",
       "1     1.16250  1.29440  0.53757  ... -0.089372 -0.237040  1.06250  0.150410   \n",
       "2     2.87180  1.05740  0.67689  ...  0.054286  0.104130  0.94571  0.000000   \n",
       "3     1.45390  1.11440  0.58938  ...  0.102630  0.232030  0.89737  0.073024   \n",
       "4     0.43282  1.73500  0.30207  ...  0.439880 -0.364400  0.57153  0.000000   \n",
       "...       ...      ...      ...  ...       ...       ...      ...       ...   \n",
       "9787  0.78627  0.97093  0.43205  ... -0.029937  0.010823  1.02990  0.127190   \n",
       "9788  0.55161  1.00730  0.33509  ...  0.007198 -0.082395  0.99280  0.868910   \n",
       "9789  0.28322  0.80307  0.17760  ... -0.245220 -1.341700  1.24520  2.700100   \n",
       "9790  0.32803  0.98145  0.24700  ...  0.288240  0.393470  0.68127  0.508850   \n",
       "9791  1.05320  1.00140  0.51267  ...  0.001393  0.041773  0.99861  0.002146   \n",
       "\n",
       "       Attr60   Attr61   Attr62  Attr63    Attr64  class  \n",
       "0      7.7928   4.9914  119.810  3.0465   3.05600  False  \n",
       "1      5.4327   3.4629  100.970  3.6150   3.47250  False  \n",
       "2      7.1070   3.3808   76.076  4.7978   4.78180  False  \n",
       "3      6.1384   4.2241   88.299  4.1337   4.64840  False  \n",
       "4     18.8010   2.7925  146.390  2.4934  15.03600  False  \n",
       "...       ...      ...      ...     ...       ...    ...  \n",
       "9787   3.8159   3.3892  146.860  2.4854   3.93150   True  \n",
       "9788  23.0280  27.1360   37.047  9.8523   4.36810   True  \n",
       "9789   6.5694   4.1781   88.883  4.1065   0.79501   True  \n",
       "9790   4.3246  35.5030  217.030  1.6818   1.31910   True  \n",
       "9791   6.7582   4.9171   98.421  3.7085   4.92950   True  \n",
       "\n",
       "[9792 rows x 65 columns]"
      ]
     },
     "execution_count": 4,
     "metadata": {},
     "output_type": "execute_result"
    }
   ],
   "source": [
    "df=wrangle(r\"D:\\4year.arff\")\n",
    "df"
   ]
  },
  {
   "cell_type": "code",
   "execution_count": 5,
   "id": "4f549895",
   "metadata": {},
   "outputs": [
    {
     "data": {
      "text/plain": [
       "Attr1     float64\n",
       "Attr2     float64\n",
       "Attr3     float64\n",
       "Attr4     float64\n",
       "Attr5     float64\n",
       "           ...   \n",
       "Attr61    float64\n",
       "Attr62    float64\n",
       "Attr63    float64\n",
       "Attr64    float64\n",
       "class        bool\n",
       "Length: 65, dtype: object"
      ]
     },
     "execution_count": 5,
     "metadata": {},
     "output_type": "execute_result"
    }
   ],
   "source": [
    "df.dtypes\n"
   ]
  },
  {
   "cell_type": "code",
   "execution_count": 6,
   "id": "fc0f67b4",
   "metadata": {},
   "outputs": [
    {
     "data": {
      "text/html": [
       "<div>\n",
       "<style scoped>\n",
       "    .dataframe tbody tr th:only-of-type {\n",
       "        vertical-align: middle;\n",
       "    }\n",
       "\n",
       "    .dataframe tbody tr th {\n",
       "        vertical-align: top;\n",
       "    }\n",
       "\n",
       "    .dataframe thead th {\n",
       "        text-align: right;\n",
       "    }\n",
       "</style>\n",
       "<table border=\"1\" class=\"dataframe\">\n",
       "  <thead>\n",
       "    <tr style=\"text-align: right;\">\n",
       "      <th></th>\n",
       "      <th>Attr1</th>\n",
       "      <th>Attr2</th>\n",
       "      <th>Attr3</th>\n",
       "      <th>Attr4</th>\n",
       "      <th>Attr5</th>\n",
       "      <th>Attr6</th>\n",
       "      <th>Attr7</th>\n",
       "      <th>Attr8</th>\n",
       "      <th>Attr9</th>\n",
       "      <th>Attr10</th>\n",
       "      <th>...</th>\n",
       "      <th>Attr55</th>\n",
       "      <th>Attr56</th>\n",
       "      <th>Attr57</th>\n",
       "      <th>Attr58</th>\n",
       "      <th>Attr59</th>\n",
       "      <th>Attr60</th>\n",
       "      <th>Attr61</th>\n",
       "      <th>Attr62</th>\n",
       "      <th>Attr63</th>\n",
       "      <th>Attr64</th>\n",
       "    </tr>\n",
       "  </thead>\n",
       "  <tbody>\n",
       "    <tr>\n",
       "      <th>count</th>\n",
       "      <td>9791.000000</td>\n",
       "      <td>9791.000000</td>\n",
       "      <td>9791.000000</td>\n",
       "      <td>9749.000000</td>\n",
       "      <td>9.771000e+03</td>\n",
       "      <td>9791.000000</td>\n",
       "      <td>9791.000000</td>\n",
       "      <td>9773.000000</td>\n",
       "      <td>9792.000000</td>\n",
       "      <td>9791.000000</td>\n",
       "      <td>...</td>\n",
       "      <td>9.792000e+03</td>\n",
       "      <td>9771.000000</td>\n",
       "      <td>9791.000000</td>\n",
       "      <td>9776.000000</td>\n",
       "      <td>9791.000000</td>\n",
       "      <td>9178.000000</td>\n",
       "      <td>9760.000000</td>\n",
       "      <td>9.771000e+03</td>\n",
       "      <td>9749.000000</td>\n",
       "      <td>9561.000000</td>\n",
       "    </tr>\n",
       "    <tr>\n",
       "      <th>mean</th>\n",
       "      <td>0.043019</td>\n",
       "      <td>0.596404</td>\n",
       "      <td>0.130959</td>\n",
       "      <td>8.136600</td>\n",
       "      <td>6.465164e+01</td>\n",
       "      <td>-0.059273</td>\n",
       "      <td>0.059446</td>\n",
       "      <td>19.884016</td>\n",
       "      <td>1.882296</td>\n",
       "      <td>0.389040</td>\n",
       "      <td>...</td>\n",
       "      <td>7.686330e+03</td>\n",
       "      <td>-0.992263</td>\n",
       "      <td>0.035022</td>\n",
       "      <td>1.133287</td>\n",
       "      <td>0.856053</td>\n",
       "      <td>118.156064</td>\n",
       "      <td>25.194430</td>\n",
       "      <td>2.015157e+03</td>\n",
       "      <td>8.660813</td>\n",
       "      <td>35.949619</td>\n",
       "    </tr>\n",
       "    <tr>\n",
       "      <th>std</th>\n",
       "      <td>0.359321</td>\n",
       "      <td>4.587122</td>\n",
       "      <td>4.559074</td>\n",
       "      <td>290.647281</td>\n",
       "      <td>1.475939e+04</td>\n",
       "      <td>6.812754</td>\n",
       "      <td>0.533344</td>\n",
       "      <td>698.697015</td>\n",
       "      <td>17.674650</td>\n",
       "      <td>4.590299</td>\n",
       "      <td>...</td>\n",
       "      <td>7.605261e+04</td>\n",
       "      <td>77.007971</td>\n",
       "      <td>8.945365</td>\n",
       "      <td>8.038201</td>\n",
       "      <td>26.393305</td>\n",
       "      <td>3230.316692</td>\n",
       "      <td>1099.260821</td>\n",
       "      <td>1.171461e+05</td>\n",
       "      <td>60.838202</td>\n",
       "      <td>483.318623</td>\n",
       "    </tr>\n",
       "    <tr>\n",
       "      <th>min</th>\n",
       "      <td>-12.458000</td>\n",
       "      <td>0.000000</td>\n",
       "      <td>-445.910000</td>\n",
       "      <td>-0.045319</td>\n",
       "      <td>-3.794600e+05</td>\n",
       "      <td>-486.820000</td>\n",
       "      <td>-12.458000</td>\n",
       "      <td>-1.848200</td>\n",
       "      <td>-0.032371</td>\n",
       "      <td>-445.910000</td>\n",
       "      <td>...</td>\n",
       "      <td>-7.132200e+05</td>\n",
       "      <td>-7522.100000</td>\n",
       "      <td>-597.420000</td>\n",
       "      <td>-30.892000</td>\n",
       "      <td>-284.380000</td>\n",
       "      <td>0.000000</td>\n",
       "      <td>-12.656000</td>\n",
       "      <td>-1.496500e+04</td>\n",
       "      <td>-0.024390</td>\n",
       "      <td>-0.000015</td>\n",
       "    </tr>\n",
       "    <tr>\n",
       "      <th>25%</th>\n",
       "      <td>0.001321</td>\n",
       "      <td>0.263145</td>\n",
       "      <td>0.020377</td>\n",
       "      <td>1.047000</td>\n",
       "      <td>-5.121700e+01</td>\n",
       "      <td>-0.000578</td>\n",
       "      <td>0.003004</td>\n",
       "      <td>0.428300</td>\n",
       "      <td>1.006675</td>\n",
       "      <td>0.294440</td>\n",
       "      <td>...</td>\n",
       "      <td>2.184000e+01</td>\n",
       "      <td>0.003121</td>\n",
       "      <td>0.008768</td>\n",
       "      <td>0.885722</td>\n",
       "      <td>0.000000</td>\n",
       "      <td>5.356325</td>\n",
       "      <td>4.267700</td>\n",
       "      <td>4.323400e+01</td>\n",
       "      <td>2.938800</td>\n",
       "      <td>2.012900</td>\n",
       "    </tr>\n",
       "    <tr>\n",
       "      <th>50%</th>\n",
       "      <td>0.041364</td>\n",
       "      <td>0.467740</td>\n",
       "      <td>0.199290</td>\n",
       "      <td>1.591800</td>\n",
       "      <td>-5.557600e-02</td>\n",
       "      <td>0.000000</td>\n",
       "      <td>0.048820</td>\n",
       "      <td>1.088700</td>\n",
       "      <td>1.161300</td>\n",
       "      <td>0.510450</td>\n",
       "      <td>...</td>\n",
       "      <td>9.503300e+02</td>\n",
       "      <td>0.043679</td>\n",
       "      <td>0.098026</td>\n",
       "      <td>0.958305</td>\n",
       "      <td>0.002129</td>\n",
       "      <td>9.482000</td>\n",
       "      <td>6.283550</td>\n",
       "      <td>7.472900e+01</td>\n",
       "      <td>4.848900</td>\n",
       "      <td>4.041600</td>\n",
       "    </tr>\n",
       "    <tr>\n",
       "      <th>75%</th>\n",
       "      <td>0.111130</td>\n",
       "      <td>0.689255</td>\n",
       "      <td>0.410670</td>\n",
       "      <td>2.880400</td>\n",
       "      <td>5.573200e+01</td>\n",
       "      <td>0.065322</td>\n",
       "      <td>0.126940</td>\n",
       "      <td>2.691000</td>\n",
       "      <td>1.970225</td>\n",
       "      <td>0.714290</td>\n",
       "      <td>...</td>\n",
       "      <td>4.694550e+03</td>\n",
       "      <td>0.117170</td>\n",
       "      <td>0.242680</td>\n",
       "      <td>0.996163</td>\n",
       "      <td>0.211790</td>\n",
       "      <td>19.506000</td>\n",
       "      <td>9.938200</td>\n",
       "      <td>1.233450e+02</td>\n",
       "      <td>8.363800</td>\n",
       "      <td>9.413500</td>\n",
       "    </tr>\n",
       "    <tr>\n",
       "      <th>max</th>\n",
       "      <td>20.482000</td>\n",
       "      <td>446.910000</td>\n",
       "      <td>22.769000</td>\n",
       "      <td>27146.000000</td>\n",
       "      <td>1.034100e+06</td>\n",
       "      <td>322.200000</td>\n",
       "      <td>38.618000</td>\n",
       "      <td>53209.000000</td>\n",
       "      <td>1704.800000</td>\n",
       "      <td>12.602000</td>\n",
       "      <td>...</td>\n",
       "      <td>6.123700e+06</td>\n",
       "      <td>112.020000</td>\n",
       "      <td>226.760000</td>\n",
       "      <td>668.750000</td>\n",
       "      <td>1661.000000</td>\n",
       "      <td>251570.000000</td>\n",
       "      <td>108000.000000</td>\n",
       "      <td>1.077900e+07</td>\n",
       "      <td>5662.400000</td>\n",
       "      <td>21153.000000</td>\n",
       "    </tr>\n",
       "  </tbody>\n",
       "</table>\n",
       "<p>8 rows × 64 columns</p>\n",
       "</div>"
      ],
      "text/plain": [
       "             Attr1        Attr2        Attr3         Attr4         Attr5  \\\n",
       "count  9791.000000  9791.000000  9791.000000   9749.000000  9.771000e+03   \n",
       "mean      0.043019     0.596404     0.130959      8.136600  6.465164e+01   \n",
       "std       0.359321     4.587122     4.559074    290.647281  1.475939e+04   \n",
       "min     -12.458000     0.000000  -445.910000     -0.045319 -3.794600e+05   \n",
       "25%       0.001321     0.263145     0.020377      1.047000 -5.121700e+01   \n",
       "50%       0.041364     0.467740     0.199290      1.591800 -5.557600e-02   \n",
       "75%       0.111130     0.689255     0.410670      2.880400  5.573200e+01   \n",
       "max      20.482000   446.910000    22.769000  27146.000000  1.034100e+06   \n",
       "\n",
       "             Attr6        Attr7         Attr8        Attr9       Attr10  ...  \\\n",
       "count  9791.000000  9791.000000   9773.000000  9792.000000  9791.000000  ...   \n",
       "mean     -0.059273     0.059446     19.884016     1.882296     0.389040  ...   \n",
       "std       6.812754     0.533344    698.697015    17.674650     4.590299  ...   \n",
       "min    -486.820000   -12.458000     -1.848200    -0.032371  -445.910000  ...   \n",
       "25%      -0.000578     0.003004      0.428300     1.006675     0.294440  ...   \n",
       "50%       0.000000     0.048820      1.088700     1.161300     0.510450  ...   \n",
       "75%       0.065322     0.126940      2.691000     1.970225     0.714290  ...   \n",
       "max     322.200000    38.618000  53209.000000  1704.800000    12.602000  ...   \n",
       "\n",
       "             Attr55       Attr56       Attr57       Attr58       Attr59  \\\n",
       "count  9.792000e+03  9771.000000  9791.000000  9776.000000  9791.000000   \n",
       "mean   7.686330e+03    -0.992263     0.035022     1.133287     0.856053   \n",
       "std    7.605261e+04    77.007971     8.945365     8.038201    26.393305   \n",
       "min   -7.132200e+05 -7522.100000  -597.420000   -30.892000  -284.380000   \n",
       "25%    2.184000e+01     0.003121     0.008768     0.885722     0.000000   \n",
       "50%    9.503300e+02     0.043679     0.098026     0.958305     0.002129   \n",
       "75%    4.694550e+03     0.117170     0.242680     0.996163     0.211790   \n",
       "max    6.123700e+06   112.020000   226.760000   668.750000  1661.000000   \n",
       "\n",
       "              Attr60         Attr61        Attr62       Attr63        Attr64  \n",
       "count    9178.000000    9760.000000  9.771000e+03  9749.000000   9561.000000  \n",
       "mean      118.156064      25.194430  2.015157e+03     8.660813     35.949619  \n",
       "std      3230.316692    1099.260821  1.171461e+05    60.838202    483.318623  \n",
       "min         0.000000     -12.656000 -1.496500e+04    -0.024390     -0.000015  \n",
       "25%         5.356325       4.267700  4.323400e+01     2.938800      2.012900  \n",
       "50%         9.482000       6.283550  7.472900e+01     4.848900      4.041600  \n",
       "75%        19.506000       9.938200  1.233450e+02     8.363800      9.413500  \n",
       "max    251570.000000  108000.000000  1.077900e+07  5662.400000  21153.000000  \n",
       "\n",
       "[8 rows x 64 columns]"
      ]
     },
     "execution_count": 6,
     "metadata": {},
     "output_type": "execute_result"
    }
   ],
   "source": [
    "df.describe()"
   ]
  },
  {
   "cell_type": "code",
   "execution_count": 7,
   "id": "a9c9b4fb",
   "metadata": {},
   "outputs": [
    {
     "data": {
      "text/plain": [
       "Attr1       1\n",
       "Attr2       1\n",
       "Attr3       1\n",
       "Attr4      43\n",
       "Attr5      21\n",
       "         ... \n",
       "Attr61     32\n",
       "Attr62     21\n",
       "Attr63     43\n",
       "Attr64    231\n",
       "class       0\n",
       "Length: 65, dtype: int64"
      ]
     },
     "execution_count": 7,
     "metadata": {},
     "output_type": "execute_result"
    }
   ],
   "source": [
    "df.isnull().sum()"
   ]
  },
  {
   "cell_type": "code",
   "execution_count": 8,
   "id": "1d35a77b",
   "metadata": {},
   "outputs": [
    {
     "data": {
      "text/plain": [
       "82"
      ]
     },
     "execution_count": 8,
     "metadata": {},
     "output_type": "execute_result"
    }
   ],
   "source": [
    "df.duplicated().sum()"
   ]
  },
  {
   "cell_type": "code",
   "execution_count": 9,
   "id": "643d1c9b",
   "metadata": {},
   "outputs": [],
   "source": [
    "df.drop_duplicates(inplace=True)"
   ]
  },
  {
   "cell_type": "code",
   "execution_count": 10,
   "id": "e042c8bb",
   "metadata": {},
   "outputs": [
    {
     "data": {
      "text/plain": [
       "<AxesSubplot:>"
      ]
     },
     "execution_count": 10,
     "metadata": {},
     "output_type": "execute_result"
    },
    {
     "data": {
      "image/png": "[encoded data removed]",
      "text/plain": [
       "<Figure size 720x720 with 1 Axes>"
      ]
     },
     "metadata": {
      "needs_background": "light"
     },
     "output_type": "display_data"
    }
   ],
   "source": [
    "plt.figure(figsize=(10,10))\n",
    "df['class'].value_counts(normalize=True).plot(kind='bar')"
   ]
  },
  {
   "cell_type": "code",
   "execution_count": 11,
   "id": "75827d1a",
   "metadata": {},
   "outputs": [
    {
     "data": {
      "text/plain": [
       "<AxesSubplot:>"
      ]
     },
     "execution_count": 11,
     "metadata": {},
     "output_type": "execute_result"
    },
    {
     "data": {
      "image/png": "[encoded data removed]",
      "text/plain": [
       "<Figure size 1080x720 with 2 Axes>"
      ]
     },
     "metadata": {
      "needs_background": "light"
     },
     "output_type": "display_data"
    }
   ],
   "source": [
    "plt.figure(figsize=(15,10))\n",
    "sns.heatmap(df.corr(),cmap=\"cividis\")"
   ]
  },
  {
   "cell_type": "code",
   "execution_count": 12,
   "id": "3f0965ff",
   "metadata": {},
   "outputs": [
    {
     "data": {
      "image/png": "[encoded data removed]",
      "text/plain": [
       "<Figure size 720x720 with 1 Axes>"
      ]
     },
     "metadata": {
      "needs_background": "light"
     },
     "output_type": "display_data"
    }
   ],
   "source": [
    "#lets take a random feature to test it attr 27 is =profit on operating activities / financial expenses\n",
    "plt.figure(figsize=(10,10))\n",
    "sns.boxplot(x=\"class\",y=\"Attr27\",data=df)\n",
    "plt.xlabel(\"class\")\n",
    "plt.ylabel(\"POOA / financial expenses\")\n",
    "plt.title(\"Distribution of Profit/Expenses Ratio, by Class\");"
   ]
  },
  {
   "cell_type": "code",
   "execution_count": 13,
   "id": "e988a395",
   "metadata": {},
   "outputs": [
    {
     "data": {
      "text/plain": [
       "count        9,075\n",
       "mean         1,123\n",
       "std         31,570\n",
       "min       -259,010\n",
       "25%              0\n",
       "50%              1\n",
       "75%              5\n",
       "max      2,037,300\n",
       "Name: Attr27, dtype: object"
      ]
     },
     "execution_count": 13,
     "metadata": {},
     "output_type": "execute_result"
    }
   ],
   "source": [
    "df['Attr27'].describe().apply(\"{0:,.0f}\".format)"
   ]
  },
  {
   "cell_type": "code",
   "execution_count": 14,
   "id": "a3db9960",
   "metadata": {},
   "outputs": [
    {
     "name": "stderr",
     "output_type": "stream",
     "text": [
      "C:\\anaconda\\lib\\site-packages\\seaborn\\_decorators.py:36: FutureWarning: Pass the following variable as a keyword arg: x. From version 0.12, the only valid positional argument will be `data`, and passing other arguments without an explicit keyword will result in an error or misinterpretation.\n",
      "  warnings.warn(\n"
     ]
    },
    {
     "data": {
      "image/png": "[encoded data removed]",
      "text/plain": [
       "<Figure size 432x288 with 1 Axes>"
      ]
     },
     "metadata": {
      "needs_background": "light"
     },
     "output_type": "display_data"
    }
   ],
   "source": [
    "sns.boxplot(df['Attr27']);"
   ]
  },
  {
   "cell_type": "code",
   "execution_count": 15,
   "id": "92db24ec",
   "metadata": {},
   "outputs": [
    {
     "data": {
      "image/png": "[encoded data removed]",
      "text/plain": [
       "<Figure size 720x720 with 1 Axes>"
      ]
     },
     "metadata": {
      "needs_background": "light"
     },
     "output_type": "display_data"
    }
   ],
   "source": [
    "q1,q9=df['Attr27'].quantile([0.1,0.9])\n",
    "m=df['Attr27'].between(q1,q9)\n",
    "plt.figure(figsize=(10,10))\n",
    "sns.boxplot(x=\"class\",y=\"Attr27\",data=df[m])\n",
    "plt.xlabel(\"class\")\n",
    "plt.ylabel(\"POOA / financial expenses\")\n",
    "plt.title(\"Distribution of Profit/Expenses Ratio, by Class\");"
   ]
  },
  {
   "cell_type": "code",
   "execution_count": 16,
   "id": "ae5ebcb7",
   "metadata": {},
   "outputs": [
    {
     "name": "stderr",
     "output_type": "stream",
     "text": [
      "C:\\anaconda\\lib\\site-packages\\seaborn\\_decorators.py:36: FutureWarning: Pass the following variable as a keyword arg: x. From version 0.12, the only valid positional argument will be `data`, and passing other arguments without an explicit keyword will result in an error or misinterpretation.\n",
      "  warnings.warn(\n"
     ]
    },
    {
     "data": {
      "image/png": "[encoded data removed]",
      "text/plain": [
       "<Figure size 432x288 with 1 Axes>"
      ]
     },
     "metadata": {
      "needs_background": "light"
     },
     "output_type": "display_data"
    }
   ],
   "source": [
    "sns.boxplot(df[m]['Attr27']);"
   ]
  },
  {
   "cell_type": "code",
   "execution_count": 17,
   "id": "6512db71",
   "metadata": {},
   "outputs": [
    {
     "data": {
      "image/png": "[encoded data removed]",
      "text/plain": [
       "<Figure size 720x720 with 1 Axes>"
      ]
     },
     "metadata": {
      "needs_background": "light"
     },
     "output_type": "display_data"
    }
   ],
   "source": [
    "#lets take another one like Attr 30 is =(total liabilities - cash) / sales\n",
    "plt.figure(figsize=(10,10))\n",
    "sns.boxplot(x=\"class\",y=\"Attr30\",data=df)\n",
    "plt.xlabel(\"class\")\n",
    "plt.ylabel(\"(total liabilities - cash) / sales\")\n",
    "plt.title(\"Distribution of Profit/Expenses Ratio, by Class\");"
   ]
  },
  {
   "cell_type": "code",
   "execution_count": 18,
   "id": "d1651c64",
   "metadata": {},
   "outputs": [
    {
     "data": {
      "text/plain": [
       "count     9,690\n",
       "mean          5\n",
       "std         342\n",
       "min      -4,940\n",
       "25%           0\n",
       "50%           0\n",
       "75%           0\n",
       "max      29,526\n",
       "Name: Attr30, dtype: object"
      ]
     },
     "execution_count": 18,
     "metadata": {},
     "output_type": "execute_result"
    }
   ],
   "source": [
    "df['Attr30'].describe().apply(\"{0:,.0f}\".format)"
   ]
  },
  {
   "cell_type": "code",
   "execution_count": 19,
   "id": "1f3ea079",
   "metadata": {},
   "outputs": [
    {
     "name": "stderr",
     "output_type": "stream",
     "text": [
      "C:\\anaconda\\lib\\site-packages\\seaborn\\_decorators.py:36: FutureWarning: Pass the following variable as a keyword arg: x. From version 0.12, the only valid positional argument will be `data`, and passing other arguments without an explicit keyword will result in an error or misinterpretation.\n",
      "  warnings.warn(\n"
     ]
    },
    {
     "data": {
      "text/plain": [
       "<AxesSubplot:xlabel='Attr30'>"
      ]
     },
     "execution_count": 19,
     "metadata": {},
     "output_type": "execute_result"
    },
    {
     "data": {
      "image/png": "[encoded data removed]",
      "text/plain": [
       "<Figure size 432x288 with 1 Axes>"
      ]
     },
     "metadata": {
      "needs_background": "light"
     },
     "output_type": "display_data"
    }
   ],
   "source": [
    "sns.boxplot(df['Attr30'])"
   ]
  },
  {
   "cell_type": "code",
   "execution_count": 20,
   "id": "98eebca6",
   "metadata": {},
   "outputs": [
    {
     "data": {
      "text/plain": [
       "Text(0, 0.5, 'Count')"
      ]
     },
     "execution_count": 20,
     "metadata": {},
     "output_type": "execute_result"
    },
    {
     "data": {
      "image/png": "[encoded data removed]",
      "text/plain": [
       "<Figure size 432x288 with 1 Axes>"
      ]
     },
     "metadata": {
      "needs_background": "light"
     },
     "output_type": "display_data"
    }
   ],
   "source": [
    "plt.hist(df['Attr30'])\n",
    "plt.xlabel(\"(total liabilities - cash) / sales\")\n",
    "plt.ylabel(\"Count\")"
   ]
  },
  {
   "cell_type": "code",
   "execution_count": 21,
   "id": "e8be9165",
   "metadata": {},
   "outputs": [
    {
     "data": {
      "image/png": "[encoded data removed]",
      "text/plain": [
       "<Figure size 720x720 with 1 Axes>"
      ]
     },
     "metadata": {
      "needs_background": "light"
     },
     "output_type": "display_data"
    }
   ],
   "source": [
    "q3,q7=df['Attr30'].quantile([0.3,0.7])\n",
    "m=df['Attr27'].between(q3,q7)\n",
    "plt.figure(figsize=(10,10))\n",
    "sns.boxplot(x=\"class\",y=\"Attr30\",data=df[m])\n",
    "plt.xlabel(\"class\")\n",
    "plt.ylabel(\"(total liabilities - cash) / sales\")\n",
    "plt.title(\"Distribution of Profit/Expenses Ratio, by Class\");"
   ]
  },
  {
   "cell_type": "code",
   "execution_count": 22,
   "id": "c4112005",
   "metadata": {},
   "outputs": [],
   "source": [
    "# Function to detect outliers\n",
    "def outlier_detecting(dataframe, variable):\n",
    "    quartile1 = dataframe[variable].quantile(0.25)\n",
    "    quartile3 = dataframe[variable].quantile(0.75)\n",
    "    interquantile_range = quartile3 - quartile1\n",
    "    up_limit = quartile3 + 1.5 * interquantile_range\n",
    "    low_limit = quartile1 - 1.5 * interquantile_range\n",
    "    return low_limit, up_limit\n",
    "\n",
    "\n",
    "# function to remove outliers\n",
    "def outlier_removing(dataframe, numeric_columns):\n",
    "    for variable in numeric_columns:\n",
    "        low_limit, up_limit = outlier_detecting(dataframe, variable)\n",
    "        dataframe.loc[(dataframe[variable] < low_limit), variable] = dataframe[variable].mean()\n",
    "        dataframe.loc[(dataframe[variable] > up_limit), variable] = dataframe[variable].mean()"
   ]
  },
  {
   "cell_type": "code",
   "execution_count": 23,
   "id": "439c7203",
   "metadata": {},
   "outputs": [],
   "source": [
    "outlier_removing(df,df.drop(['class'],axis=1))"
   ]
  },
  {
   "cell_type": "code",
   "execution_count": 24,
   "id": "9bbdfdbd",
   "metadata": {},
   "outputs": [
    {
     "name": "stdout",
     "output_type": "stream",
     "text": [
      "X shape: (9710, 64)\n",
      "y shape: (9710,)\n"
     ]
    }
   ],
   "source": [
    "target = \"class\"\n",
    "X = df.drop(target,axis=1)\n",
    "y = df[target]\n",
    "\n",
    "print(\"X shape:\", X.shape)\n",
    "print(\"y shape:\", y.shape)"
   ]
  },
  {
   "cell_type": "code",
   "execution_count": 25,
   "id": "43bb7ae3",
   "metadata": {},
   "outputs": [
    {
     "name": "stdout",
     "output_type": "stream",
     "text": [
      "X_train shape: (7282, 64)\n",
      "y_train shape: (7282,)\n",
      "X_test shape: (2428, 64)\n",
      "y_test shape: (2428,)\n"
     ]
    }
   ],
   "source": [
    "X_train, X_test, y_train, y_test = train_test_split(X,y,random_state=42,test_size=0.4)\n",
    "\n",
    "print(\"X_train shape:\", X_train.shape)\n",
    "print(\"y_train shape:\", y_train.shape)\n",
    "print(\"X_test shape:\", X_test.shape)\n",
    "print(\"y_test shape:\", y_test.shape)"
   ]
  },
  {
   "cell_type": "code",
   "execution_count": 26,
   "id": "bc675efe",
   "metadata": {
    "scrolled": true
   },
   "outputs": [
    {
     "name": "stdout",
     "output_type": "stream",
     "text": [
      "(13806, 64)\n"
     ]
    },
    {
     "data": {
      "text/html": [
       "<div>\n",
       "<style scoped>\n",
       "    .dataframe tbody tr th:only-of-type {\n",
       "        vertical-align: middle;\n",
       "    }\n",
       "\n",
       "    .dataframe tbody tr th {\n",
       "        vertical-align: top;\n",
       "    }\n",
       "\n",
       "    .dataframe thead th {\n",
       "        text-align: right;\n",
       "    }\n",
       "</style>\n",
       "<table border=\"1\" class=\"dataframe\">\n",
       "  <thead>\n",
       "    <tr style=\"text-align: right;\">\n",
       "      <th></th>\n",
       "      <th>Attr1</th>\n",
       "      <th>Attr2</th>\n",
       "      <th>Attr3</th>\n",
       "      <th>Attr4</th>\n",
       "      <th>Attr5</th>\n",
       "      <th>Attr6</th>\n",
       "      <th>Attr7</th>\n",
       "      <th>Attr8</th>\n",
       "      <th>Attr9</th>\n",
       "      <th>Attr10</th>\n",
       "      <th>...</th>\n",
       "      <th>Attr55</th>\n",
       "      <th>Attr56</th>\n",
       "      <th>Attr57</th>\n",
       "      <th>Attr58</th>\n",
       "      <th>Attr59</th>\n",
       "      <th>Attr60</th>\n",
       "      <th>Attr61</th>\n",
       "      <th>Attr62</th>\n",
       "      <th>Attr63</th>\n",
       "      <th>Attr64</th>\n",
       "    </tr>\n",
       "  </thead>\n",
       "  <tbody>\n",
       "    <tr>\n",
       "      <th>0</th>\n",
       "      <td>0.042952</td>\n",
       "      <td>0.94872</td>\n",
       "      <td>-0.274570</td>\n",
       "      <td>0.600910</td>\n",
       "      <td>-69.330000</td>\n",
       "      <td>0.000000</td>\n",
       "      <td>0.059445</td>\n",
       "      <td>0.054055</td>\n",
       "      <td>2.4388</td>\n",
       "      <td>0.051283</td>\n",
       "      <td>...</td>\n",
       "      <td>-207.100</td>\n",
       "      <td>-0.160510</td>\n",
       "      <td>0.034518</td>\n",
       "      <td>1.159700</td>\n",
       "      <td>1.074762</td>\n",
       "      <td>9.4303</td>\n",
       "      <td>25.358849</td>\n",
       "      <td>102.970</td>\n",
       "      <td>3.5448</td>\n",
       "      <td>4.157600</td>\n",
       "    </tr>\n",
       "    <tr>\n",
       "      <th>1</th>\n",
       "      <td>0.052899</td>\n",
       "      <td>0.25172</td>\n",
       "      <td>0.208410</td>\n",
       "      <td>1.958400</td>\n",
       "      <td>72.795000</td>\n",
       "      <td>0.140924</td>\n",
       "      <td>0.067078</td>\n",
       "      <td>2.972600</td>\n",
       "      <td>1.0691</td>\n",
       "      <td>0.748280</td>\n",
       "      <td>...</td>\n",
       "      <td>7261.000</td>\n",
       "      <td>0.064613</td>\n",
       "      <td>0.070694</td>\n",
       "      <td>0.935390</td>\n",
       "      <td>0.045800</td>\n",
       "      <td>22.2140</td>\n",
       "      <td>2.396800</td>\n",
       "      <td>92.003</td>\n",
       "      <td>3.9673</td>\n",
       "      <td>1.502600</td>\n",
       "    </tr>\n",
       "    <tr>\n",
       "      <th>2</th>\n",
       "      <td>0.042952</td>\n",
       "      <td>1.26560</td>\n",
       "      <td>0.000562</td>\n",
       "      <td>1.000600</td>\n",
       "      <td>0.091055</td>\n",
       "      <td>0.000000</td>\n",
       "      <td>0.059445</td>\n",
       "      <td>-0.209890</td>\n",
       "      <td>1.5232</td>\n",
       "      <td>-0.265640</td>\n",
       "      <td>...</td>\n",
       "      <td>0.075</td>\n",
       "      <td>-1.001463</td>\n",
       "      <td>0.335517</td>\n",
       "      <td>1.192727</td>\n",
       "      <td>0.000000</td>\n",
       "      <td>NaN</td>\n",
       "      <td>2.108000</td>\n",
       "      <td>231.400</td>\n",
       "      <td>1.5773</td>\n",
       "      <td>36.191506</td>\n",
       "    </tr>\n",
       "    <tr>\n",
       "      <th>3</th>\n",
       "      <td>0.077592</td>\n",
       "      <td>0.13475</td>\n",
       "      <td>0.750550</td>\n",
       "      <td>8.181403</td>\n",
       "      <td>409.885892</td>\n",
       "      <td>0.140924</td>\n",
       "      <td>0.092740</td>\n",
       "      <td>20.022198</td>\n",
       "      <td>1.6584</td>\n",
       "      <td>0.865250</td>\n",
       "      <td>...</td>\n",
       "      <td>3741.200</td>\n",
       "      <td>0.043699</td>\n",
       "      <td>0.335517</td>\n",
       "      <td>1.135243</td>\n",
       "      <td>0.000000</td>\n",
       "      <td>9.4621</td>\n",
       "      <td>2.758300</td>\n",
       "      <td>25.258</td>\n",
       "      <td>14.4510</td>\n",
       "      <td>12.312000</td>\n",
       "    </tr>\n",
       "    <tr>\n",
       "      <th>4</th>\n",
       "      <td>0.017277</td>\n",
       "      <td>0.59580</td>\n",
       "      <td>0.212510</td>\n",
       "      <td>1.392400</td>\n",
       "      <td>-30.425000</td>\n",
       "      <td>0.000000</td>\n",
       "      <td>0.022811</td>\n",
       "      <td>0.678410</td>\n",
       "      <td>2.2837</td>\n",
       "      <td>0.404200</td>\n",
       "      <td>...</td>\n",
       "      <td>10175.000</td>\n",
       "      <td>0.015395</td>\n",
       "      <td>0.042745</td>\n",
       "      <td>0.990150</td>\n",
       "      <td>0.097392</td>\n",
       "      <td>5.9279</td>\n",
       "      <td>6.541500</td>\n",
       "      <td>86.557</td>\n",
       "      <td>4.2169</td>\n",
       "      <td>9.285400</td>\n",
       "    </tr>\n",
       "  </tbody>\n",
       "</table>\n",
       "<p>5 rows × 64 columns</p>\n",
       "</div>"
      ],
      "text/plain": [
       "      Attr1    Attr2     Attr3     Attr4       Attr5     Attr6     Attr7  \\\n",
       "0  0.042952  0.94872 -0.274570  0.600910  -69.330000  0.000000  0.059445   \n",
       "1  0.052899  0.25172  0.208410  1.958400   72.795000  0.140924  0.067078   \n",
       "2  0.042952  1.26560  0.000562  1.000600    0.091055  0.000000  0.059445   \n",
       "3  0.077592  0.13475  0.750550  8.181403  409.885892  0.140924  0.092740   \n",
       "4  0.017277  0.59580  0.212510  1.392400  -30.425000  0.000000  0.022811   \n",
       "\n",
       "       Attr8   Attr9    Attr10  ...     Attr55    Attr56    Attr57    Attr58  \\\n",
       "0   0.054055  2.4388  0.051283  ...   -207.100 -0.160510  0.034518  1.159700   \n",
       "1   2.972600  1.0691  0.748280  ...   7261.000  0.064613  0.070694  0.935390   \n",
       "2  -0.209890  1.5232 -0.265640  ...      0.075 -1.001463  0.335517  1.192727   \n",
       "3  20.022198  1.6584  0.865250  ...   3741.200  0.043699  0.335517  1.135243   \n",
       "4   0.678410  2.2837  0.404200  ...  10175.000  0.015395  0.042745  0.990150   \n",
       "\n",
       "     Attr59   Attr60     Attr61   Attr62   Attr63     Attr64  \n",
       "0  1.074762   9.4303  25.358849  102.970   3.5448   4.157600  \n",
       "1  0.045800  22.2140   2.396800   92.003   3.9673   1.502600  \n",
       "2  0.000000      NaN   2.108000  231.400   1.5773  36.191506  \n",
       "3  0.000000   9.4621   2.758300   25.258  14.4510  12.312000  \n",
       "4  0.097392   5.9279   6.541500   86.557   4.2169   9.285400  \n",
       "\n",
       "[5 rows x 64 columns]"
      ]
     },
     "execution_count": 26,
     "metadata": {},
     "output_type": "execute_result"
    }
   ],
   "source": [
    "over_sampler = RandomOverSampler(random_state=42)\n",
    "X_train_over, y_train_over = over_sampler.fit_resample(X_train,y_train)\n",
    "print(X_train_over.shape)\n",
    "X_train_over.head()"
   ]
  },
  {
   "cell_type": "code",
   "execution_count": 27,
   "id": "7e334cea",
   "metadata": {},
   "outputs": [
    {
     "data": {
      "text/plain": [
       "<AxesSubplot:>"
      ]
     },
     "execution_count": 27,
     "metadata": {},
     "output_type": "execute_result"
    },
    {
     "data": {
      "image/png": "[encoded data removed]",
      "text/plain": [
       "<Figure size 720x720 with 1 Axes>"
      ]
     },
     "metadata": {
      "needs_background": "light"
     },
     "output_type": "display_data"
    }
   ],
   "source": [
    "plt.figure(figsize=(10,10))\n",
    "y_train_over.value_counts(normalize=True).plot(kind='bar')"
   ]
  },
  {
   "cell_type": "code",
   "execution_count": 28,
   "id": "71a84d93",
   "metadata": {},
   "outputs": [
    {
     "name": "stdout",
     "output_type": "stream",
     "text": [
      "Baseline Accuracy: 0.948\n"
     ]
    }
   ],
   "source": [
    "acc_baseline = y_train.value_counts(normalize=True).max()\n",
    "print(\"Baseline Accuracy:\", round(acc_baseline, 4))"
   ]
  },
  {
   "cell_type": "code",
   "execution_count": 29,
   "id": "26be71e0",
   "metadata": {},
   "outputs": [
    {
     "name": "stdout",
     "output_type": "stream",
     "text": [
      "Pipeline(steps=[('simpleimputer', SimpleImputer()),\n",
      "                ('selectkbest', SelectKBest(k=60)),\n",
      "                ('randomforestclassifier',\n",
      "                 RandomForestClassifier(random_state=42))])\n"
     ]
    }
   ],
   "source": [
    "clf1 = make_pipeline(\n",
    "        SimpleImputer(strategy='mean'),\n",
    "        SelectKBest(score_func=f_classif, k=60),\n",
    "        RandomForestClassifier(random_state=42))\n",
    "print(clf1)"
   ]
  },
  {
   "cell_type": "code",
   "execution_count": 30,
   "id": "7e11d125",
   "metadata": {},
   "outputs": [
    {
     "name": "stdout",
     "output_type": "stream",
     "text": [
      "the score of training over data :  1.0\n",
      "the score of testing data :  0.9456342668863262\n"
     ]
    }
   ],
   "source": [
    "clf1.fit(X_train_over,y_train_over)\n",
    "print(\"the score of training over data : \",clf1.score(X_train,y_train))\n",
    "print(\"the score of testing data : \",clf1.score(X_test,y_test))"
   ]
  },
  {
   "cell_type": "code",
   "execution_count": 31,
   "id": "7e9d190e",
   "metadata": {},
   "outputs": [
    {
     "data": {
      "text/plain": [
       "array([0.94444444, 0.9382716 , 0.94032922, 0.94845361, 0.94020619])"
      ]
     },
     "execution_count": 31,
     "metadata": {},
     "output_type": "execute_result"
    }
   ],
   "source": [
    "cv_acc_scores = cross_val_score(clf1,X_test,y_test,cv=5,n_jobs=-1)\n",
    "cv_acc_scores"
   ]
  },
  {
   "cell_type": "code",
   "execution_count": 32,
   "id": "cc589ba1",
   "metadata": {},
   "outputs": [
    {
     "name": "stdout",
     "output_type": "stream",
     "text": [
      "Fitting 5 folds for each of 120 candidates, totalling 600 fits\n"
     ]
    },
    {
     "data": {
      "text/plain": [
       "GridSearchCV(cv=5,\n",
       "             estimator=Pipeline(steps=[('simpleimputer', SimpleImputer()),\n",
       "                                       ('selectkbest', SelectKBest(k=60)),\n",
       "                                       ('randomforestclassifier',\n",
       "                                        RandomForestClassifier(random_state=42))]),\n",
       "             n_jobs=-1,\n",
       "             param_grid={'randomforestclassifier__max_depth': range(50, 100, 10),\n",
       "                         'randomforestclassifier__n_estimators': range(25, 100, 25),\n",
       "                         'selectkbest__k': range(45, 65, 5),\n",
       "                         'simpleimputer__strategy': ['mean', 'median']},\n",
       "             verbose=1)"
      ]
     },
     "execution_count": 32,
     "metadata": {},
     "output_type": "execute_result"
    }
   ],
   "source": [
    "params = {\n",
    "    \"simpleimputer__strategy\":[\"mean\",\"median\"]\n",
    "    ,'selectkbest__k':range(45,65,5)\n",
    "    ,\"randomforestclassifier__n_estimators\":range(25,100,25)\n",
    "    ,\"randomforestclassifier__max_depth\":range(50,100,10)\n",
    "}\n",
    "model = GridSearchCV(\n",
    "    clf1,\n",
    "    param_grid=params,cv=5,n_jobs=-1,verbose=1\n",
    ")\n",
    "model.fit(X_train_over,y_train_over)"
   ]
  },
  {
   "cell_type": "code",
   "execution_count": 33,
   "id": "a72fcdea",
   "metadata": {},
   "outputs": [
    {
     "name": "stdout",
     "output_type": "stream",
     "text": [
      "score of training data :  1.0\n",
      "score of testing data :  0.9448105436573312\n"
     ]
    }
   ],
   "source": [
    "print(\"score of training data : \",model.score(X_train,y_train))\n",
    "print(\"score of testing data : \",model.score(X_test,y_test))"
   ]
  },
  {
   "cell_type": "code",
   "execution_count": 34,
   "id": "7037328f",
   "metadata": {},
   "outputs": [
    {
     "data": {
      "text/plain": [
       "<Figure size 3600x3600 with 0 Axes>"
      ]
     },
     "metadata": {},
     "output_type": "display_data"
    },
    {
     "data": {
      "image/png": "[encoded data removed]",
      "text/plain": [
       "<Figure size 432x288 with 2 Axes>"
      ]
     },
     "metadata": {
      "needs_background": "light"
     },
     "output_type": "display_data"
    }
   ],
   "source": [
    "plt.figure(figsize=(50,50))\n",
    "ConfusionMatrixDisplay.from_estimator(model,X_test,y_test);"
   ]
  },
  {
   "cell_type": "code",
   "execution_count": 35,
   "id": "a1f23502",
   "metadata": {},
   "outputs": [
    {
     "data": {
      "image/png": "[encoded data removed]",
      "text/plain": [
       "<Figure size 432x288 with 1 Axes>"
      ]
     },
     "metadata": {
      "needs_background": "light"
     },
     "output_type": "display_data"
    }
   ],
   "source": [
    "imputer = KNNImputer(n_neighbors=5)\n",
    "imputed_data = imputer.fit_transform(X_train)\n",
    "pca = PCA().fit(imputed_data)\n",
    "plt.plot(np.cumsum(pca.explained_variance_ratio_))\n",
    "plt.xlabel('Number of Components')\n",
    "plt.ylabel('Cumulative Explained Variance')\n",
    "plt.show()"
   ]
  },
  {
   "cell_type": "code",
   "execution_count": 36,
   "id": "496e2770",
   "metadata": {},
   "outputs": [
    {
     "name": "stdout",
     "output_type": "stream",
     "text": [
      "Pipeline(steps=[('knnimputer', KNNImputer(n_neighbors=15)),\n",
      "                ('pca', PCA(n_components=5, random_state=42)),\n",
      "                ('svc', SVC(gamma='auto', random_state=42))])\n"
     ]
    }
   ],
   "source": [
    "clf2 = make_pipeline(\n",
    "        KNNImputer(n_neighbors=15)\n",
    "        ,PCA(random_state=42,n_components=5),\n",
    "        SVC(random_state=42,gamma='auto')\n",
    ")\n",
    "print(clf2)"
   ]
  },
  {
   "cell_type": "code",
   "execution_count": 37,
   "id": "816b5aef",
   "metadata": {},
   "outputs": [
    {
     "name": "stdout",
     "output_type": "stream",
     "text": [
      "the score of testing data :  0.9427512355848435\n"
     ]
    }
   ],
   "source": [
    "clf2.fit(X_train,y_train)\n",
    "print(\"the score of testing data : \",clf2.score(X_test,y_test))"
   ]
  },
  {
   "cell_type": "code",
   "execution_count": null,
   "id": "3c906135",
   "metadata": {},
   "outputs": [
    {
     "name": "stdout",
     "output_type": "stream",
     "text": [
      "Fitting 5 folds for each of 8 candidates, totalling 40 fits\n"
     ]
    }
   ],
   "source": [
    "params = {\n",
    "    \"knnimputer__n_neighbors\":range(15,36,10)\n",
    "    ,'pca__n_components':range(0,15,2)\n",
    "\n",
    "}\n",
    "model = GridSearchCV(\n",
    "    clf2,\n",
    "    param_grid=params,cv=5,n_jobs=-1,verbose=1\n",
    ")\n",
    "model.fit(X_train_over,y_train_over)\n"
   ]
  },
  {
   "cell_type": "code",
   "execution_count": null,
   "id": "c8cabae7",
   "metadata": {},
   "outputs": [],
   "source": [
    "print(\"score of training data : \",model.score(X_train,y_train))\n",
    "print(\"score of testing data : \",model.score(X_test,y_test))"
   ]
  },
  {
   "cell_type": "code",
   "execution_count": null,
   "id": "50d7f5b3",
   "metadata": {},
   "outputs": [],
   "source": [
    "plt.figure(figsize=(1000,1000))\n",
    "ConfusionMatrixDisplay.from_estimator(model,X_test,y_test);"
   ]
  },
  {
   "cell_type": "code",
   "execution_count": 2,
   "id": "e38fa1d2",
   "metadata": {},
   "outputs": [],
   "source": [
    "def wrangle2(path):\n",
    "    df2=pd.read_csv(path)\n",
    "    df2.drop(['id','Unnamed: 32'],axis=1,inplace=True)\n",
    "    bool_mapping = {df2['diagnosis'].unique()[1]: False, df2['diagnosis'].unique()[0]: True}\n",
    "    df2.replace(bool_mapping, inplace=True)\n",
    "    return df2"
   ]
  },
  {
   "cell_type": "code",
   "execution_count": 3,
   "id": "76e9e42e",
   "metadata": {},
   "outputs": [
    {
     "data": {
      "text/html": [
       "<div>\n",
       "<style scoped>\n",
       "    .dataframe tbody tr th:only-of-type {\n",
       "        vertical-align: middle;\n",
       "    }\n",
       "\n",
       "    .dataframe tbody tr th {\n",
       "        vertical-align: top;\n",
       "    }\n",
       "\n",
       "    .dataframe thead th {\n",
       "        text-align: right;\n",
       "    }\n",
       "</style>\n",
       "<table border=\"1\" class=\"dataframe\">\n",
       "  <thead>\n",
       "    <tr style=\"text-align: right;\">\n",
       "      <th></th>\n",
       "      <th>diagnosis</th>\n",
       "      <th>radius_mean</th>\n",
       "      <th>texture_mean</th>\n",
       "      <th>perimeter_mean</th>\n",
       "      <th>area_mean</th>\n",
       "      <th>smoothness_mean</th>\n",
       "      <th>compactness_mean</th>\n",
       "      <th>concavity_mean</th>\n",
       "      <th>concave points_mean</th>\n",
       "      <th>symmetry_mean</th>\n",
       "      <th>...</th>\n",
       "      <th>radius_worst</th>\n",
       "      <th>texture_worst</th>\n",
       "      <th>perimeter_worst</th>\n",
       "      <th>area_worst</th>\n",
       "      <th>smoothness_worst</th>\n",
       "      <th>compactness_worst</th>\n",
       "      <th>concavity_worst</th>\n",
       "      <th>concave points_worst</th>\n",
       "      <th>symmetry_worst</th>\n",
       "      <th>fractal_dimension_worst</th>\n",
       "    </tr>\n",
       "  </thead>\n",
       "  <tbody>\n",
       "    <tr>\n",
       "      <th>0</th>\n",
       "      <td>True</td>\n",
       "      <td>17.99</td>\n",
       "      <td>10.38</td>\n",
       "      <td>122.80</td>\n",
       "      <td>1001.0</td>\n",
       "      <td>0.11840</td>\n",
       "      <td>0.27760</td>\n",
       "      <td>0.30010</td>\n",
       "      <td>0.14710</td>\n",
       "      <td>0.2419</td>\n",
       "      <td>...</td>\n",
       "      <td>25.380</td>\n",
       "      <td>17.33</td>\n",
       "      <td>184.60</td>\n",
       "      <td>2019.0</td>\n",
       "      <td>0.16220</td>\n",
       "      <td>0.66560</td>\n",
       "      <td>0.7119</td>\n",
       "      <td>0.2654</td>\n",
       "      <td>0.4601</td>\n",
       "      <td>0.11890</td>\n",
       "    </tr>\n",
       "    <tr>\n",
       "      <th>1</th>\n",
       "      <td>True</td>\n",
       "      <td>20.57</td>\n",
       "      <td>17.77</td>\n",
       "      <td>132.90</td>\n",
       "      <td>1326.0</td>\n",
       "      <td>0.08474</td>\n",
       "      <td>0.07864</td>\n",
       "      <td>0.08690</td>\n",
       "      <td>0.07017</td>\n",
       "      <td>0.1812</td>\n",
       "      <td>...</td>\n",
       "      <td>24.990</td>\n",
       "      <td>23.41</td>\n",
       "      <td>158.80</td>\n",
       "      <td>1956.0</td>\n",
       "      <td>0.12380</td>\n",
       "      <td>0.18660</td>\n",
       "      <td>0.2416</td>\n",
       "      <td>0.1860</td>\n",
       "      <td>0.2750</td>\n",
       "      <td>0.08902</td>\n",
       "    </tr>\n",
       "    <tr>\n",
       "      <th>2</th>\n",
       "      <td>True</td>\n",
       "      <td>19.69</td>\n",
       "      <td>21.25</td>\n",
       "      <td>130.00</td>\n",
       "      <td>1203.0</td>\n",
       "      <td>0.10960</td>\n",
       "      <td>0.15990</td>\n",
       "      <td>0.19740</td>\n",
       "      <td>0.12790</td>\n",
       "      <td>0.2069</td>\n",
       "      <td>...</td>\n",
       "      <td>23.570</td>\n",
       "      <td>25.53</td>\n",
       "      <td>152.50</td>\n",
       "      <td>1709.0</td>\n",
       "      <td>0.14440</td>\n",
       "      <td>0.42450</td>\n",
       "      <td>0.4504</td>\n",
       "      <td>0.2430</td>\n",
       "      <td>0.3613</td>\n",
       "      <td>0.08758</td>\n",
       "    </tr>\n",
       "    <tr>\n",
       "      <th>3</th>\n",
       "      <td>True</td>\n",
       "      <td>11.42</td>\n",
       "      <td>20.38</td>\n",
       "      <td>77.58</td>\n",
       "      <td>386.1</td>\n",
       "      <td>0.14250</td>\n",
       "      <td>0.28390</td>\n",
       "      <td>0.24140</td>\n",
       "      <td>0.10520</td>\n",
       "      <td>0.2597</td>\n",
       "      <td>...</td>\n",
       "      <td>14.910</td>\n",
       "      <td>26.50</td>\n",
       "      <td>98.87</td>\n",
       "      <td>567.7</td>\n",
       "      <td>0.20980</td>\n",
       "      <td>0.86630</td>\n",
       "      <td>0.6869</td>\n",
       "      <td>0.2575</td>\n",
       "      <td>0.6638</td>\n",
       "      <td>0.17300</td>\n",
       "    </tr>\n",
       "    <tr>\n",
       "      <th>4</th>\n",
       "      <td>True</td>\n",
       "      <td>20.29</td>\n",
       "      <td>14.34</td>\n",
       "      <td>135.10</td>\n",
       "      <td>1297.0</td>\n",
       "      <td>0.10030</td>\n",
       "      <td>0.13280</td>\n",
       "      <td>0.19800</td>\n",
       "      <td>0.10430</td>\n",
       "      <td>0.1809</td>\n",
       "      <td>...</td>\n",
       "      <td>22.540</td>\n",
       "      <td>16.67</td>\n",
       "      <td>152.20</td>\n",
       "      <td>1575.0</td>\n",
       "      <td>0.13740</td>\n",
       "      <td>0.20500</td>\n",
       "      <td>0.4000</td>\n",
       "      <td>0.1625</td>\n",
       "      <td>0.2364</td>\n",
       "      <td>0.07678</td>\n",
       "    </tr>\n",
       "    <tr>\n",
       "      <th>...</th>\n",
       "      <td>...</td>\n",
       "      <td>...</td>\n",
       "      <td>...</td>\n",
       "      <td>...</td>\n",
       "      <td>...</td>\n",
       "      <td>...</td>\n",
       "      <td>...</td>\n",
       "      <td>...</td>\n",
       "      <td>...</td>\n",
       "      <td>...</td>\n",
       "      <td>...</td>\n",
       "      <td>...</td>\n",
       "      <td>...</td>\n",
       "      <td>...</td>\n",
       "      <td>...</td>\n",
       "      <td>...</td>\n",
       "      <td>...</td>\n",
       "      <td>...</td>\n",
       "      <td>...</td>\n",
       "      <td>...</td>\n",
       "      <td>...</td>\n",
       "    </tr>\n",
       "    <tr>\n",
       "      <th>564</th>\n",
       "      <td>True</td>\n",
       "      <td>21.56</td>\n",
       "      <td>22.39</td>\n",
       "      <td>142.00</td>\n",
       "      <td>1479.0</td>\n",
       "      <td>0.11100</td>\n",
       "      <td>0.11590</td>\n",
       "      <td>0.24390</td>\n",
       "      <td>0.13890</td>\n",
       "      <td>0.1726</td>\n",
       "      <td>...</td>\n",
       "      <td>25.450</td>\n",
       "      <td>26.40</td>\n",
       "      <td>166.10</td>\n",
       "      <td>2027.0</td>\n",
       "      <td>0.14100</td>\n",
       "      <td>0.21130</td>\n",
       "      <td>0.4107</td>\n",
       "      <td>0.2216</td>\n",
       "      <td>0.2060</td>\n",
       "      <td>0.07115</td>\n",
       "    </tr>\n",
       "    <tr>\n",
       "      <th>565</th>\n",
       "      <td>True</td>\n",
       "      <td>20.13</td>\n",
       "      <td>28.25</td>\n",
       "      <td>131.20</td>\n",
       "      <td>1261.0</td>\n",
       "      <td>0.09780</td>\n",
       "      <td>0.10340</td>\n",
       "      <td>0.14400</td>\n",
       "      <td>0.09791</td>\n",
       "      <td>0.1752</td>\n",
       "      <td>...</td>\n",
       "      <td>23.690</td>\n",
       "      <td>38.25</td>\n",
       "      <td>155.00</td>\n",
       "      <td>1731.0</td>\n",
       "      <td>0.11660</td>\n",
       "      <td>0.19220</td>\n",
       "      <td>0.3215</td>\n",
       "      <td>0.1628</td>\n",
       "      <td>0.2572</td>\n",
       "      <td>0.06637</td>\n",
       "    </tr>\n",
       "    <tr>\n",
       "      <th>566</th>\n",
       "      <td>True</td>\n",
       "      <td>16.60</td>\n",
       "      <td>28.08</td>\n",
       "      <td>108.30</td>\n",
       "      <td>858.1</td>\n",
       "      <td>0.08455</td>\n",
       "      <td>0.10230</td>\n",
       "      <td>0.09251</td>\n",
       "      <td>0.05302</td>\n",
       "      <td>0.1590</td>\n",
       "      <td>...</td>\n",
       "      <td>18.980</td>\n",
       "      <td>34.12</td>\n",
       "      <td>126.70</td>\n",
       "      <td>1124.0</td>\n",
       "      <td>0.11390</td>\n",
       "      <td>0.30940</td>\n",
       "      <td>0.3403</td>\n",
       "      <td>0.1418</td>\n",
       "      <td>0.2218</td>\n",
       "      <td>0.07820</td>\n",
       "    </tr>\n",
       "    <tr>\n",
       "      <th>567</th>\n",
       "      <td>True</td>\n",
       "      <td>20.60</td>\n",
       "      <td>29.33</td>\n",
       "      <td>140.10</td>\n",
       "      <td>1265.0</td>\n",
       "      <td>0.11780</td>\n",
       "      <td>0.27700</td>\n",
       "      <td>0.35140</td>\n",
       "      <td>0.15200</td>\n",
       "      <td>0.2397</td>\n",
       "      <td>...</td>\n",
       "      <td>25.740</td>\n",
       "      <td>39.42</td>\n",
       "      <td>184.60</td>\n",
       "      <td>1821.0</td>\n",
       "      <td>0.16500</td>\n",
       "      <td>0.86810</td>\n",
       "      <td>0.9387</td>\n",
       "      <td>0.2650</td>\n",
       "      <td>0.4087</td>\n",
       "      <td>0.12400</td>\n",
       "    </tr>\n",
       "    <tr>\n",
       "      <th>568</th>\n",
       "      <td>False</td>\n",
       "      <td>7.76</td>\n",
       "      <td>24.54</td>\n",
       "      <td>47.92</td>\n",
       "      <td>181.0</td>\n",
       "      <td>0.05263</td>\n",
       "      <td>0.04362</td>\n",
       "      <td>0.00000</td>\n",
       "      <td>0.00000</td>\n",
       "      <td>0.1587</td>\n",
       "      <td>...</td>\n",
       "      <td>9.456</td>\n",
       "      <td>30.37</td>\n",
       "      <td>59.16</td>\n",
       "      <td>268.6</td>\n",
       "      <td>0.08996</td>\n",
       "      <td>0.06444</td>\n",
       "      <td>0.0000</td>\n",
       "      <td>0.0000</td>\n",
       "      <td>0.2871</td>\n",
       "      <td>0.07039</td>\n",
       "    </tr>\n",
       "  </tbody>\n",
       "</table>\n",
       "<p>569 rows × 31 columns</p>\n",
       "</div>"
      ],
      "text/plain": [
       "     diagnosis  radius_mean  texture_mean  perimeter_mean  area_mean  \\\n",
       "0         True        17.99         10.38          122.80     1001.0   \n",
       "1         True        20.57         17.77          132.90     1326.0   \n",
       "2         True        19.69         21.25          130.00     1203.0   \n",
       "3         True        11.42         20.38           77.58      386.1   \n",
       "4         True        20.29         14.34          135.10     1297.0   \n",
       "..         ...          ...           ...             ...        ...   \n",
       "564       True        21.56         22.39          142.00     1479.0   \n",
       "565       True        20.13         28.25          131.20     1261.0   \n",
       "566       True        16.60         28.08          108.30      858.1   \n",
       "567       True        20.60         29.33          140.10     1265.0   \n",
       "568      False         7.76         24.54           47.92      181.0   \n",
       "\n",
       "     smoothness_mean  compactness_mean  concavity_mean  concave points_mean  \\\n",
       "0            0.11840           0.27760         0.30010              0.14710   \n",
       "1            0.08474           0.07864         0.08690              0.07017   \n",
       "2            0.10960           0.15990         0.19740              0.12790   \n",
       "3            0.14250           0.28390         0.24140              0.10520   \n",
       "4            0.10030           0.13280         0.19800              0.10430   \n",
       "..               ...               ...             ...                  ...   \n",
       "564          0.11100           0.11590         0.24390              0.13890   \n",
       "565          0.09780           0.10340         0.14400              0.09791   \n",
       "566          0.08455           0.10230         0.09251              0.05302   \n",
       "567          0.11780           0.27700         0.35140              0.15200   \n",
       "568          0.05263           0.04362         0.00000              0.00000   \n",
       "\n",
       "     symmetry_mean  ...  radius_worst  texture_worst  perimeter_worst  \\\n",
       "0           0.2419  ...        25.380          17.33           184.60   \n",
       "1           0.1812  ...        24.990          23.41           158.80   \n",
       "2           0.2069  ...        23.570          25.53           152.50   \n",
       "3           0.2597  ...        14.910          26.50            98.87   \n",
       "4           0.1809  ...        22.540          16.67           152.20   \n",
       "..             ...  ...           ...            ...              ...   \n",
       "564         0.1726  ...        25.450          26.40           166.10   \n",
       "565         0.1752  ...        23.690          38.25           155.00   \n",
       "566         0.1590  ...        18.980          34.12           126.70   \n",
       "567         0.2397  ...        25.740          39.42           184.60   \n",
       "568         0.1587  ...         9.456          30.37            59.16   \n",
       "\n",
       "     area_worst  smoothness_worst  compactness_worst  concavity_worst  \\\n",
       "0        2019.0           0.16220            0.66560           0.7119   \n",
       "1        1956.0           0.12380            0.18660           0.2416   \n",
       "2        1709.0           0.14440            0.42450           0.4504   \n",
       "3         567.7           0.20980            0.86630           0.6869   \n",
       "4        1575.0           0.13740            0.20500           0.4000   \n",
       "..          ...               ...                ...              ...   \n",
       "564      2027.0           0.14100            0.21130           0.4107   \n",
       "565      1731.0           0.11660            0.19220           0.3215   \n",
       "566      1124.0           0.11390            0.30940           0.3403   \n",
       "567      1821.0           0.16500            0.86810           0.9387   \n",
       "568       268.6           0.08996            0.06444           0.0000   \n",
       "\n",
       "     concave points_worst  symmetry_worst  fractal_dimension_worst  \n",
       "0                  0.2654          0.4601                  0.11890  \n",
       "1                  0.1860          0.2750                  0.08902  \n",
       "2                  0.2430          0.3613                  0.08758  \n",
       "3                  0.2575          0.6638                  0.17300  \n",
       "4                  0.1625          0.2364                  0.07678  \n",
       "..                    ...             ...                      ...  \n",
       "564                0.2216          0.2060                  0.07115  \n",
       "565                0.1628          0.2572                  0.06637  \n",
       "566                0.1418          0.2218                  0.07820  \n",
       "567                0.2650          0.4087                  0.12400  \n",
       "568                0.0000          0.2871                  0.07039  \n",
       "\n",
       "[569 rows x 31 columns]"
      ]
     },
     "execution_count": 3,
     "metadata": {},
     "output_type": "execute_result"
    }
   ],
   "source": [
    "df2=wrangle2(\"D:\\\\faculty\\\\semester 5\\\\data science tools\\\\project\\\\Cancer_Data.csv\")\n",
    "df2"
   ]
  },
  {
   "cell_type": "code",
   "execution_count": 4,
   "id": "6222cbb1",
   "metadata": {},
   "outputs": [
    {
     "data": {
      "text/plain": [
       "diagnosis                  0\n",
       "radius_mean                0\n",
       "texture_mean               0\n",
       "perimeter_mean             0\n",
       "area_mean                  0\n",
       "smoothness_mean            0\n",
       "compactness_mean           0\n",
       "concavity_mean             0\n",
       "concave points_mean        0\n",
       "symmetry_mean              0\n",
       "fractal_dimension_mean     0\n",
       "radius_se                  0\n",
       "texture_se                 0\n",
       "perimeter_se               0\n",
       "area_se                    0\n",
       "smoothness_se              0\n",
       "compactness_se             0\n",
       "concavity_se               0\n",
       "concave points_se          0\n",
       "symmetry_se                0\n",
       "fractal_dimension_se       0\n",
       "radius_worst               0\n",
       "texture_worst              0\n",
       "perimeter_worst            0\n",
       "area_worst                 0\n",
       "smoothness_worst           0\n",
       "compactness_worst          0\n",
       "concavity_worst            0\n",
       "concave points_worst       0\n",
       "symmetry_worst             0\n",
       "fractal_dimension_worst    0\n",
       "dtype: int64"
      ]
     },
     "execution_count": 4,
     "metadata": {},
     "output_type": "execute_result"
    }
   ],
   "source": [
    "df2.isnull().sum()"
   ]
  },
  {
   "cell_type": "code",
   "execution_count": 5,
   "id": "b84b618a",
   "metadata": {},
   "outputs": [
    {
     "data": {
      "text/plain": [
       "array([False])"
      ]
     },
     "execution_count": 5,
     "metadata": {},
     "output_type": "execute_result"
    }
   ],
   "source": [
    "df2.duplicated().unique()"
   ]
  },
  {
   "cell_type": "code",
   "execution_count": 6,
   "id": "fbe5f314",
   "metadata": {},
   "outputs": [
    {
     "name": "stdout",
     "output_type": "stream",
     "text": [
      "X shape: (569, 30)\n",
      "y shape: (569,)\n"
     ]
    }
   ],
   "source": [
    "target = \"diagnosis\"\n",
    "X = df2.drop(target,axis=1)\n",
    "y = df2[target]\n",
    "\n",
    "print(\"X shape:\", X.shape)\n",
    "print(\"y shape:\", y.shape)"
   ]
  },
  {
   "cell_type": "code",
   "execution_count": 7,
   "id": "d472818a",
   "metadata": {},
   "outputs": [
    {
     "name": "stdout",
     "output_type": "stream",
     "text": [
      "X_train shape: (341, 30)\n",
      "y_train shape: (341,)\n",
      "X_test shape: (228, 30)\n",
      "y_test shape: (228,)\n"
     ]
    }
   ],
   "source": [
    "X_train, X_test, y_train, y_test = train_test_split(X,y,random_state=42,test_size=0.4)\n",
    "\n",
    "print(\"X_train shape:\", X_train.shape)\n",
    "print(\"y_train shape:\", y_train.shape)\n",
    "print(\"X_test shape:\", X_test.shape)\n",
    "print(\"y_test shape:\", y_test.shape)"
   ]
  },
  {
   "cell_type": "code",
   "execution_count": 23,
   "id": "1bb937d6",
   "metadata": {},
   "outputs": [
    {
     "name": "stdout",
     "output_type": "stream",
     "text": [
      "Model: \"sequential_2\"\n",
      "_________________________________________________________________\n",
      " Layer (type)                Output Shape              Param #   \n",
      "=================================================================\n",
      " normalization_2 (Normaliza  (None, 30)                61        \n",
      " tion)                                                           \n",
      "                                                                 \n",
      " dense_6 (Dense)             (None, 64)                1984      \n",
      "                                                                 \n",
      " dense_7 (Dense)             (None, 128)               8320      \n",
      "                                                                 \n",
      " dense_8 (Dense)             (None, 1)                 129       \n",
      "                                                                 \n",
      "=================================================================\n",
      "Total params: 10494 (41.00 KB)\n",
      "Trainable params: 10433 (40.75 KB)\n",
      "Non-trainable params: 61 (248.00 Byte)\n",
      "_________________________________________________________________\n"
     ]
    }
   ],
   "source": [
    "normalizer = tf.keras.layers.Normalization(axis=-1)\n",
    "numeric_features = X_train.astype(np.float32)\n",
    "normalizer.adapt(numeric_features)\n",
    "\n",
    "def build_model():\n",
    "    model = tf.keras.Sequential([\n",
    "        normalizer,\n",
    "        tf.keras.layers.Dense(64, activation='relu'),\n",
    "        tf.keras.layers.Dense(128, activation='relu'),\n",
    "        tf.keras.layers.Dense(1, activation='sigmoid')\n",
    "    ])\n",
    "    model.compile(loss='binary_crossentropy', metrics=['binary_accuracy'], optimizer='adam')\n",
    "    return model\n",
    "\n",
    "model = build_model()\n",
    "model.summary()"
   ]
  },
  {
   "cell_type": "code",
   "execution_count": 24,
   "id": "1293cd07",
   "metadata": {},
   "outputs": [
    {
     "name": "stdout",
     "output_type": "stream",
     "text": [
      "Epoch 1/500\n",
      "9/9 [==============================] - 2s 55ms/step - loss: 0.6428 - binary_accuracy: 0.6324 - val_loss: 0.4193 - val_binary_accuracy: 0.7826\n",
      "Epoch 2/500\n",
      "9/9 [==============================] - 0s 19ms/step - loss: 0.3524 - binary_accuracy: 0.8934 - val_loss: 0.2620 - val_binary_accuracy: 0.9275\n",
      "Epoch 3/500\n",
      "9/9 [==============================] - 0s 19ms/step - loss: 0.2217 - binary_accuracy: 0.9632 - val_loss: 0.1820 - val_binary_accuracy: 0.9420\n",
      "Epoch 4/500\n",
      "9/9 [==============================] - 0s 35ms/step - loss: 0.1575 - binary_accuracy: 0.9669 - val_loss: 0.1429 - val_binary_accuracy: 0.9565\n",
      "Epoch 5/500\n",
      "9/9 [==============================] - 0s 36ms/step - loss: 0.1221 - binary_accuracy: 0.9706 - val_loss: 0.1212 - val_binary_accuracy: 0.9565\n",
      "Epoch 6/500\n",
      "9/9 [==============================] - 0s 20ms/step - loss: 0.0996 - binary_accuracy: 0.9779 - val_loss: 0.1093 - val_binary_accuracy: 0.9565\n",
      "Epoch 7/500\n",
      "9/9 [==============================] - 0s 18ms/step - loss: 0.0861 - binary_accuracy: 0.9853 - val_loss: 0.1037 - val_binary_accuracy: 0.9565\n",
      "Epoch 8/500\n",
      "9/9 [==============================] - 0s 18ms/step - loss: 0.0763 - binary_accuracy: 0.9853 - val_loss: 0.0989 - val_binary_accuracy: 0.9710\n",
      "Epoch 9/500\n",
      "9/9 [==============================] - 0s 23ms/step - loss: 0.0688 - binary_accuracy: 0.9853 - val_loss: 0.0940 - val_binary_accuracy: 0.9710\n",
      "Epoch 10/500\n",
      "9/9 [==============================] - 0s 32ms/step - loss: 0.0631 - binary_accuracy: 0.9853 - val_loss: 0.0918 - val_binary_accuracy: 0.9710\n",
      "Epoch 11/500\n",
      "9/9 [==============================] - 0s 16ms/step - loss: 0.0574 - binary_accuracy: 0.9853 - val_loss: 0.0868 - val_binary_accuracy: 0.9710\n",
      "Epoch 12/500\n",
      "9/9 [==============================] - 0s 16ms/step - loss: 0.0526 - binary_accuracy: 0.9853 - val_loss: 0.0870 - val_binary_accuracy: 0.9710\n",
      "Epoch 13/500\n",
      "9/9 [==============================] - 0s 12ms/step - loss: 0.0480 - binary_accuracy: 0.9853 - val_loss: 0.0847 - val_binary_accuracy: 0.9710\n",
      "Epoch 14/500\n",
      "9/9 [==============================] - 0s 19ms/step - loss: 0.0441 - binary_accuracy: 0.9853 - val_loss: 0.0831 - val_binary_accuracy: 0.9710\n"
     ]
    }
   ],
   "source": [
    "early_stopping = tf.keras.callbacks.EarlyStopping(monitor='val_binary_accuracy', patience=6)\n",
    "history = model.fit(X_train,\n",
    "                         y_train,\n",
    "                         epochs=500,\n",
    "                         verbose=1, batch_size=32, \n",
    "                    validation_split = 0.2, callbacks=[early_stopping])"
   ]
  },
  {
   "cell_type": "code",
   "execution_count": 25,
   "id": "3f0658bc",
   "metadata": {},
   "outputs": [
    {
     "data": {
      "text/plain": [
       "[<matplotlib.lines.Line2D at 0x2348c4d9190>]"
      ]
     },
     "execution_count": 25,
     "metadata": {},
     "output_type": "execute_result"
    },
    {
     "data": {
      "image/png": "[encoded data removed]",
      "text/plain": [
       "<Figure size 432x288 with 1 Axes>"
      ]
     },
     "metadata": {
      "needs_background": "light"
     },
     "output_type": "display_data"
    }
   ],
   "source": [
    "plt.plot(history.history['val_binary_accuracy'])\n",
    "plt.plot(history.history['binary_accuracy'])"
   ]
  },
  {
   "cell_type": "code",
   "execution_count": 26,
   "id": "54791b08",
   "metadata": {},
   "outputs": [
    {
     "name": "stdout",
     "output_type": "stream",
     "text": [
      "8/8 [==============================] - 0s 4ms/step\n"
     ]
    }
   ],
   "source": [
    "p = model.predict(X_test)"
   ]
  },
  {
   "cell_type": "code",
   "execution_count": 27,
   "id": "34b73d28",
   "metadata": {},
   "outputs": [],
   "source": [
    "df_pred = X_test.copy()\n",
    "df_pred['pred'] = p > 0.5"
   ]
  },
  {
   "cell_type": "code",
   "execution_count": 28,
   "id": "047c1212",
   "metadata": {},
   "outputs": [
    {
     "name": "stdout",
     "output_type": "stream",
     "text": [
      "the accuracy of the model =  0.9824561403508771\n"
     ]
    }
   ],
   "source": [
    "print(\"the accuracy of the model = \",sum(y_test == df_pred['pred']) / len(df_pred.index))"
   ]
  },
  {
   "cell_type": "code",
   "execution_count": 29,
   "id": "92b6c360",
   "metadata": {},
   "outputs": [
    {
     "name": "stdout",
     "output_type": "stream",
     "text": [
      "              precision    recall  f1-score   support\n",
      "\n",
      "       False       0.99      0.99      0.99       148\n",
      "        True       0.97      0.97      0.97        80\n",
      "\n",
      "    accuracy                           0.98       228\n",
      "   macro avg       0.98      0.98      0.98       228\n",
      "weighted avg       0.98      0.98      0.98       228\n",
      "\n"
     ]
    }
   ],
   "source": [
    "print(classification_report(y_test, df_pred['pred']))"
   ]
  },
  {
   "cell_type": "code",
   "execution_count": 30,
   "id": "676348b3",
   "metadata": {},
   "outputs": [
    {
     "data": {
      "image/png": "[encoded data removed]",
      "text/plain": [
       "<Figure size 432x288 with 2 Axes>"
      ]
     },
     "metadata": {
      "needs_background": "light"
     },
     "output_type": "display_data"
    }
   ],
   "source": [
    "cm = sklearn.metrics.confusion_matrix(y_test, df_pred['pred'])\n",
    "ax = plt.subplot()\n",
    "sns.heatmap(cm, annot=True, ax=ax, cmap='Blues')\n",
    "ax.set_xlabel('Predicted')\n",
    "ax.set_ylabel('Actual')\n",
    "ax.set_title('confusion matrix')\n",
    "plt.show()"
   ]
  }
 ],
 "metadata": {
  "kernelspec": {
   "display_name": "Python 3 (ipykernel)",
   "language": "python",
   "name": "python3"
  },
  "language_info": {
   "codemirror_mode": {
    "name": "ipython",
    "version": 3
   },
   "file_extension": ".py",
   "mimetype": "text/x-python",
   "name": "python",
   "nbconvert_exporter": "python",
   "pygments_lexer": "ipython3",
   "version": "3.9.12"
  }
 },
 "nbformat": 4,
 "nbformat_minor": 5
}
